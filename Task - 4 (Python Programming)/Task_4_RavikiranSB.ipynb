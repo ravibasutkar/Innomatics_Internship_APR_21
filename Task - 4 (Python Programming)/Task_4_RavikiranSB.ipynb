{
 "cells": [
  {
   "cell_type": "code",
   "execution_count": 1,
   "metadata": {},
   "outputs": [],
   "source": [
    "#Submitted by Ravikiran S Basutkar \n",
    "#Task_4"
   ]
  },
  {
   "cell_type": "code",
   "execution_count": 2,
   "metadata": {},
   "outputs": [
    {
     "name": "stdout",
     "output_type": "stream",
     "text": [
      "HackerRank.com presents \"Pythonist 2\".\n",
      "hACKERrANK.COM PRESENTS \"pYTHONIST 2\".\n"
     ]
    }
   ],
   "source": [
    "#Question 1 sWAP cASE\n",
    "def swap_case(s):\n",
    "    s2=''\n",
    "    for i in s:\n",
    "        if (i.isalpha()):\n",
    "            if (i.isupper()):\n",
    "                s2 +=(i.lower())\n",
    "            elif (i.islower()):\n",
    "                s2 +=(i.upper())\n",
    "        else:\n",
    "            s2 +=(i)\n",
    "    #or s3 = s.swapcase()\n",
    "    #or taking s2 as list and then coverting list to str            \n",
    "    #string_output=''.join([str(elem) for elem in s2])\n",
    "    #or\n",
    "    #string_output=''.join(map(str,s2))\n",
    "    #or\n",
    "    #string_output=''\n",
    "    #string_output.join(s)\n",
    "    #or\n",
    "    #string_output=''\n",
    "    #for elem in s2:\n",
    "    #  string_output +=elem\n",
    "    return s2\n",
    "\n",
    "if __name__ == '__main__':\n",
    "    s = input()\n",
    "    result = swap_case(s)\n",
    "    print(result)"
   ]
  },
  {
   "cell_type": "code",
   "execution_count": 62,
   "metadata": {},
   "outputs": [
    {
     "name": "stdout",
     "output_type": "stream",
     "text": [
      "this is a string\n",
      "this-is-a-string\n"
     ]
    }
   ],
   "source": [
    "#Question 2 String Split and Join\n",
    "def split_and_join(line):\n",
    "    # write your code here\n",
    "    line = line.split(\" \")\n",
    "    line='-'.join(line)\n",
    "    return line\n",
    "\n",
    "if __name__ == '__main__':\n",
    "    line = input()\n",
    "    result = split_and_join(line)\n",
    "    print(result)"
   ]
  },
  {
   "cell_type": "code",
   "execution_count": 4,
   "metadata": {},
   "outputs": [
    {
     "name": "stdout",
     "output_type": "stream",
     "text": [
      "Ross\n",
      "Taylor\n",
      "Hello Ross Taylor! You just delved into python.\n"
     ]
    }
   ],
   "source": [
    "#Question 3 What's Your Name?\n",
    "#\n",
    "# Complete the 'print_full_name' function below.\n",
    "#\n",
    "# The function is expected to return a STRING.\n",
    "# The function accepts following parameters:\n",
    "#  1. STRING first\n",
    "#  2. STRING last\n",
    "#\n",
    "\n",
    "def print_full_name(first, last):\n",
    "    # Write your code here\n",
    "    print(\"Hello {} {}! You just delved into python.\".format(first_name,last_name))\n",
    "    #print(\"Hello %s %s! You just delved into python.\" %(first_name,last_name))\n",
    "if __name__ == '__main__':\n",
    "    first_name = input()\n",
    "    last_name = input()\n",
    "    print_full_name(first_name, last_name)"
   ]
  },
  {
   "cell_type": "code",
   "execution_count": 5,
   "metadata": {},
   "outputs": [
    {
     "name": "stdout",
     "output_type": "stream",
     "text": [
      "abracadabra\n",
      "5 k\n",
      "abrackdabra\n"
     ]
    }
   ],
   "source": [
    "#Question 4 Mutations\n",
    "def mutate_string(string, position, character):\n",
    "    str_lis=list(string)\n",
    "    str_lis[position]=character\n",
    "    #string2=''.join(str_lis)\n",
    "    #or\n",
    "    string2=string[:position]+character+string[(position+1):]\n",
    "    return string2\n",
    "\n",
    "if __name__ == '__main__':\n",
    "    s = input()\n",
    "    i, c = input().split()\n",
    "    s_new = mutate_string(s, int(i), c)\n",
    "    print(s_new)"
   ]
  },
  {
   "cell_type": "code",
   "execution_count": 11,
   "metadata": {},
   "outputs": [
    {
     "name": "stdout",
     "output_type": "stream",
     "text": [
      "ABCDCDC\n",
      "CDC\n",
      "2\n"
     ]
    }
   ],
   "source": [
    "#Question 5 Find a string\n",
    "def count_substring(string, sub_string):\n",
    "    #count=string.count(sub_string)\n",
    "    count=0\n",
    "    for i in range(0, (len(string)-(len(sub_string)-1))):\n",
    "        if(string[i:(i+len(sub_string))]==sub_string):\n",
    "            count +=1\n",
    "    return count\n",
    "\n",
    "if __name__ == '__main__':\n",
    "    string = input().strip()\n",
    "    sub_string = input().strip()\n",
    "    \n",
    "    count = count_substring(string, sub_string)\n",
    "    print(count)"
   ]
  },
  {
   "cell_type": "code",
   "execution_count": 18,
   "metadata": {},
   "outputs": [
    {
     "name": "stdout",
     "output_type": "stream",
     "text": [
      "qA2\n",
      "True\n",
      "True\n",
      "True\n",
      "True\n",
      "True\n"
     ]
    }
   ],
   "source": [
    "#Question 6 String Validators\n",
    "if __name__ == '__main__':\n",
    "    s = input()\n",
    "    #print(any([c.isalnum() for c in s]))  #or print(any(c.isalnum() for c in s)) ,\n",
    "    print(any(c.isalnum() for c in s))     #similarly for below lines i.e no need of square bracket\n",
    "    print(any([c.isalpha() for c in s]))\n",
    "    print(any([c.isdigit() for c in s]))\n",
    "    print(any([c.islower() for c in s]))\n",
    "    print(any([c.isupper() for c in s]))"
   ]
  },
  {
   "cell_type": "code",
   "execution_count": 46,
   "metadata": {},
   "outputs": [
    {
     "name": "stdout",
     "output_type": "stream",
     "text": [
      "5\n",
      "    H    \n",
      "   HHH   \n",
      "  HHHHH  \n",
      " HHHHHHH \n",
      "HHHHHHHHH\n",
      "  HHHHH               HHHHH             \n",
      "  HHHHH               HHHHH             \n",
      "  HHHHH               HHHHH             \n",
      "  HHHHH               HHHHH             \n",
      "  HHHHH               HHHHH             \n",
      "  HHHHH               HHHHH             \n",
      "  HHHHHHHHHHHHHHHHHHHHHHHHH   \n",
      "  HHHHHHHHHHHHHHHHHHHHHHHHH   \n",
      "  HHHHHHHHHHHHHHHHHHHHHHHHH   \n",
      "  HHHHH               HHHHH             \n",
      "  HHHHH               HHHHH             \n",
      "  HHHHH               HHHHH             \n",
      "  HHHHH               HHHHH             \n",
      "  HHHHH               HHHHH             \n",
      "  HHHHH               HHHHH             \n",
      "                    HHHHHHHHH \n",
      "                     HHHHHHH  \n",
      "                      HHHHH   \n",
      "                       HHH    \n",
      "                        H     \n"
     ]
    }
   ],
   "source": [
    "#Question 7 Text Alignment\n",
    "#Replace all ______ with rjust, ljust or center. \n",
    "\n",
    "thickness = int(input()) #This must be an odd number\n",
    "c = 'H'\n",
    "\n",
    "#Top Cone\n",
    "for i in range(thickness):\n",
    "    print((c*i).rjust(thickness-1)+c+(c*i).ljust(thickness-1))\n",
    "\n",
    "#Top Pillars\n",
    "for i in range(thickness+1):\n",
    "    print((c*thickness).center(thickness*2)+(c*thickness).center(thickness*6))\n",
    "\n",
    "#Middle Belt\n",
    "for i in range((thickness+1)//2):\n",
    "    print((c*thickness*5).center(thickness*6))    \n",
    "\n",
    "#Bottom Pillars\n",
    "for i in range(thickness+1):\n",
    "    print((c*thickness).center(thickness*2)+(c*thickness).center(thickness*6))    \n",
    "\n",
    "#Bottom Cone\n",
    "for i in range(thickness):\n",
    "    print(((c*(thickness-i-1)).rjust(thickness)+c+(c*(thickness-i-1)).ljust(thickness)).rjust(thickness*6))"
   ]
  },
  {
   "cell_type": "code",
   "execution_count": 47,
   "metadata": {},
   "outputs": [
    {
     "name": "stdout",
     "output_type": "stream",
     "text": [
      "ABCDEFGHIJKLIMNOQRSTUVWXYZ\n",
      "4\n",
      "ABCD\n",
      "EFGH\n",
      "IJKL\n",
      "IMNO\n",
      "QRST\n",
      "UVWX\n",
      "YZ\n",
      "\n"
     ]
    }
   ],
   "source": [
    "#Question 8 Text Wrap\n",
    "import textwrap\n",
    "\n",
    "def wrap(string, max_width):\n",
    "    wrapped=textwrap.wrap(string,max_width)\n",
    "    wrapped2=[word+'\\n' for word in wrapped ]\n",
    "    wrapped_string=''.join(wrapped2)\n",
    "    return wrapped_string\n",
    "\n",
    "if __name__ == '__main__':\n",
    "    string, max_width = input(), int(input())\n",
    "    result = wrap(string, max_width)\n",
    "    print(result)"
   ]
  },
  {
   "cell_type": "code",
   "execution_count": 5,
   "metadata": {},
   "outputs": [
    {
     "name": "stdout",
     "output_type": "stream",
     "text": [
      "7 21\n",
      "---------.|.---------\n",
      "------.|..|..|.------\n",
      "---.|..|..|..|..|.---\n",
      "-------WELCOME-------\n",
      "---.|..|..|..|..|.---\n",
      "------.|..|..|.------\n",
      "---------.|.---------\n"
     ]
    }
   ],
   "source": [
    "#Question 9 Designer Door Mat\n",
    "# Enter your code here. Read input from STDIN. Print output to STDOUT\n",
    "input_val=input()\n",
    "N=int(input_val.split()[0])\n",
    "M=int(input_val.split()[1])\n",
    "rr=round((N-1)/2+0)\n",
    "for i in range(rr):\n",
    "    #print('------'.ljust(3)+'.|.'+'------'.rjust(3))\n",
    "    #for j in range():\n",
    "    #print(('---'*(N-rr-i-1)).ljust(i+1)+(('.|.')*(2*i+1)).center(i+1)+('---'*(N-rr-i-1)).rjust(i+1))\n",
    "    print(('---'*(N-rr-i-1))+(('.|.')*(2*i+1))+('---'*(N-rr-i-1)))\n",
    "    \n",
    "cent=round((3*N-7)/2)\n",
    "print(('-'*cent).ljust(N-2)+'WELCOME'+('-'*cent).rjust(N-2))\n",
    "\n",
    "for i in range(rr):\n",
    "    #print(('---'*(i+1)).ljust(i+1)+(('.|.')*(N-3-2*i+1)).center(i+1)+('---'*(i+1)).rjust(i+1))\n",
    "    print(('---'*(i+1))+(('.|.')*(N-3-2*i+1))+('---'*(i+1)))"
   ]
  },
  {
   "cell_type": "code",
   "execution_count": 15,
   "metadata": {},
   "outputs": [
    {
     "name": "stdout",
     "output_type": "stream",
     "text": [
      "17\n",
      "    1     1     1     1\n",
      "    2     2     2    10\n",
      "    3     3     3    11\n",
      "    4     4     4   100\n",
      "    5     5     5   101\n",
      "    6     6     6   110\n",
      "    7     7     7   111\n",
      "    8    10     8  1000\n",
      "    9    11     9  1001\n",
      "   10    12     A  1010\n",
      "   11    13     B  1011\n",
      "   12    14     C  1100\n",
      "   13    15     D  1101\n",
      "   14    16     E  1110\n",
      "   15    17     F  1111\n",
      "   16    20    10 10000\n",
      "   17    21    11 10001\n"
     ]
    }
   ],
   "source": [
    "#Question 10 String Formatting\n",
    "def print_formatted(number):\n",
    "    # your code goes here\n",
    "    w=len(bin(number)[2:])\n",
    "    for i in range(1,number+1):\n",
    "        #binary conversion\n",
    "        #b_q=i\n",
    "        #bi_nu_st=str(0)\n",
    "        #while(b_q>0):\n",
    "        #    b_q //=2\n",
    "        #    b_rem =str(b_q%2)\n",
    "        #    bi_nu_st +=(b_rem)\n",
    "        #bina_i=int(bi_nu_st)\n",
    "        \n",
    "        \n",
    "        bina_i=bin(i)[2:]\n",
    "        octa_i=oct(i)[2:]\n",
    "        hexa_i=hex(i)[2:]\n",
    "        \n",
    "        print(str(i).rjust(w),(octa_i).upper().rjust(w),(hexa_i).upper().rjust(w),(bina_i).rjust(w))\n",
    "\n",
    "if __name__ == '__main__':\n",
    "    n = int(input())\n",
    "    print_formatted(n)"
   ]
  },
  {
   "cell_type": "code",
   "execution_count": 46,
   "metadata": {},
   "outputs": [
    {
     "name": "stdout",
     "output_type": "stream",
     "text": [
      "10\n",
      "------------------j------------------\n",
      "----------------j-i-j----------------\n",
      "--------------j-i-h-i-j--------------\n",
      "------------j-i-h-g-h-i-j------------\n",
      "----------j-i-h-g-f-g-h-i-j----------\n",
      "--------j-i-h-g-f-e-f-g-h-i-j--------\n",
      "------j-i-h-g-f-e-d-e-f-g-h-i-j------\n",
      "----j-i-h-g-f-e-d-c-d-e-f-g-h-i-j----\n",
      "--j-i-h-g-f-e-d-c-b-c-d-e-f-g-h-i-j--\n",
      "j-i-h-g-f-e-d-c-b-a-b-c-d-e-f-g-h-i-j\n",
      "--j-i-h-g-f-e-d-c-b-c-d-e-f-g-h-i-j--\n",
      "----j-i-h-g-f-e-d-c-d-e-f-g-h-i-j----\n",
      "------j-i-h-g-f-e-d-e-f-g-h-i-j------\n",
      "--------j-i-h-g-f-e-f-g-h-i-j--------\n",
      "----------j-i-h-g-f-g-h-i-j----------\n",
      "------------j-i-h-g-h-i-j------------\n",
      "--------------j-i-h-i-j--------------\n",
      "----------------j-i-j----------------\n",
      "------------------j------------------\n"
     ]
    }
   ],
   "source": [
    "#Question 11 Alphabet Rangoli\n",
    "def print_rangoli(size):\n",
    "    # your code goes here\n",
    "    dict_al_nu={1:'a',2:'b',3:'c',4:'d',5:'e',6:'f',7:'g',8:'h',9:'i',10:'j',11:'k',12:'l',13:'m',14:'n',15:'o',16:'p',17:'q',18:'r',19:'s',20:'t',21:'u',22:'v',23:'w',24:'x',25:'y',26:'z'}\n",
    "    #i=3\n",
    "    #print(('-'*(i+1)).rjust(3)+dict_al_nu[3]+('-'*(i+1)).ljust(3))\n",
    "    '''for i in range(size,0,-1):\n",
    "        for ii in range(1,i+1):\n",
    "            print(dict_al_nu[i-ii+1]+'-', end =\"\")\n",
    "        for  jj in range(2,i+1):\n",
    "            if (jj==i):\n",
    "                print(dict_al_nu[jj]+'', end =\"\") \n",
    "            else: \n",
    "                print(dict_al_nu[jj]+'-', end =\"\")\n",
    "        print('\\n') '''\n",
    "    if (size==1):\n",
    "        print('a')\n",
    "    else:\n",
    "        # top half (size-1) of lines\n",
    "        for i in range(0,size-1,1):\n",
    "            #for ii in range(size,size-1-i,-1):\n",
    "            print(('--')*(size-i-1),end='')\n",
    "            for j in range(size,size-i,-1):\n",
    "                print(dict_al_nu[j]+'-', end =\"\")\n",
    "            for k in range(size-i,size+1,1):\n",
    "                print(dict_al_nu[k]+'-', end =\"\")\n",
    "            #for iii in range(size,size-1-i,-1):\n",
    "            print(('--')*(size-i-2)+'-',end='')\n",
    "            print('')\n",
    "        \n",
    "        # Center line \n",
    "        for i in range(1,size+1):\n",
    "            print(dict_al_nu[size-i+1]+'-', end =\"\")\n",
    "        for jj in range(2,size+1):\n",
    "            if (jj==size):\n",
    "                print(dict_al_nu[jj]+'', end =\"\") \n",
    "            else: \n",
    "                print(dict_al_nu[jj]+'-', end =\"\")\n",
    "        print('')\n",
    "    \n",
    "        #bottom half (size-1) of lines\n",
    "        for i in range(size-2,-1,-1):\n",
    "            #for ii in range(size,size-1-i,-1):\n",
    "            print(('--')*(size-i-1),end='')\n",
    "            for j in range(size,size-i,-1):\n",
    "                print(dict_al_nu[j]+'-', end =\"\")\n",
    "            for k in range(size-i,size+1,1):\n",
    "                print(dict_al_nu[k]+'-', end =\"\")\n",
    "            #for iii in range(size,size-1-i,-1):\n",
    "            print(('--')*(size-i-2)+'-',end='')\n",
    "            print('')\n",
    "if __name__ == '__main__':\n",
    "    n = int(input())\n",
    "    print_rangoli(n)"
   ]
  },
  {
   "cell_type": "code",
   "execution_count": 58,
   "metadata": {},
   "outputs": [
    {
     "name": "stdout",
     "output_type": "stream",
     "text": [
      "hello world\n",
      "Hello World\n"
     ]
    }
   ],
   "source": [
    "#Question 12 Capitalize!\n",
    "#!/bin/python3\n",
    "\n",
    "import math\n",
    "import os\n",
    "import random\n",
    "import re\n",
    "import sys\n",
    "\n",
    "# Complete the solve function below.\n",
    "def solve(s):\n",
    "    #names=list(s.split())\n",
    "    #s2=[]\n",
    "    #for name in names:\n",
    "    #    name2=name[0].upper()+name[1:]\n",
    "    ##lastname2=lastname[0].upper()+lastname[1:]\n",
    "    #    s2.append(name2)\n",
    "    ##s2=firstname2+\" \"+lastname2\n",
    "    ##s2c = '%s %s' % (firstname2, lastname2)\n",
    "    #output=' '.join(s2)\n",
    "    s2=list(s)\n",
    "    s2[0]=s2[0].upper()\n",
    "    for i in range(2,len(s)):\n",
    "        if (s2[i-1]==\" \"):\n",
    "            s2[i]=s2[i].upper()\n",
    "    \n",
    "    output=''.join(s2)\n",
    "    return output\n",
    "\n",
    "if __name__ == '__main__':\n",
    "    #fptr = open(os.environ['OUTPUT_PATH'], 'w')\n",
    "\n",
    "    s = input()\n",
    "\n",
    "    result = solve(s)\n",
    "\n",
    "    #fptr.write(result + '\\n')\n",
    "\n",
    "    #fptr.close()\n",
    "    print(result)"
   ]
  },
  {
   "cell_type": "code",
   "execution_count": 9,
   "metadata": {},
   "outputs": [
    {
     "name": "stdout",
     "output_type": "stream",
     "text": [
      "BANANA\n",
      "Stuart 21\n"
     ]
    }
   ],
   "source": [
    "#Question 13 The Minion Game\n",
    "def minion_game(string):\n",
    "    # your code goes here\n",
    "    S=0\n",
    "    K=0\n",
    "    vowel=['A','E','I','O','U']\n",
    "   \n",
    "    '''  hint-there are n+(n-1)+(n-2)+...+2+1=n(n+1)/2 substrings in a word of length n. \n",
    "       Therefore, since any substring starts exclusively with either a vowel or a consonant, \n",
    "       we only need to count the number of substrings starting with a vowel and subtract from the total\n",
    "       number of substrings to get the number of substrings starting with a consonant, or vice versa.\n",
    "       \n",
    "       OR\n",
    "   \n",
    "    list1=[]\n",
    "    n=1 \n",
    "    while(n<=len(string)):\n",
    "        for index in range(len(string)):\n",
    "            list1.append(string[index:index+n])\n",
    "        n =n+1\n",
    "       \n",
    "    req_str_array=list(set(list1))\n",
    "    lis_Stuart=[]\n",
    "    lis_kevin=[]\n",
    "    for val in req_str_array:\n",
    "        if (val[0] in vowel):\n",
    "            lis_kevin.append(val)\n",
    "        else:\n",
    "            lis_Stuart.append(val)\n",
    "    def count_substring(string, sub_string):\n",
    "    #count=string.count(sub_string)\n",
    "        count=0\n",
    "        for i in range(0, (len(string)-(len(sub_string)-1))):\n",
    "            if(string[i:(i+len(sub_string))]==sub_string):\n",
    "                count +=1\n",
    "        return count\n",
    "    \n",
    "    for substring in lis_kevin:\n",
    "        K +=count_substring(string, substring)\n",
    "    for substring in lis_Stuart:\n",
    "        S +=count_substring(string, substring)\n",
    "        \n",
    "    if(S>K):\n",
    "        print(\"Stuart {}\".format(S))\n",
    "    elif (K>S):\n",
    "        print(\"Kevin {}\".format(K))\n",
    "    else:\n",
    "        print(\"Draw\")\n",
    "        \n",
    "       OR\n",
    "    for i in range(len(string)):\n",
    "        if string[i] in vowel:\n",
    "            K+= len(string)-i\n",
    "        else:\n",
    "            S+=len(string)-i\n",
    "    if S>K:\n",
    "        print(\"Stuart\"+\" \"+ \"%d\" % S)\n",
    "    elif K>S:\n",
    "        print(\"Kevin\"+\" \"+'%d' % K)\n",
    "    else:\n",
    "        print(\"Draw\")\n",
    "\n",
    "    '''\n",
    "    vowel = \"AEIOU\"\n",
    "    slen = len(string)\n",
    "    tsub = int(slen * (slen + 1) / 2)  # OR tsub = sum(slen - i for i in range(slen))\n",
    "    K = sum(slen - i for i in range(slen) if string[i] in vowel)   \n",
    "    S = tsub - S\n",
    "\n",
    "    if S > K: print(f\"Stuart {S}\")\n",
    "    elif S < K: print(f\"Kevin {K}\")\n",
    "    else: print(\"Draw\")\n",
    "    \n",
    "if __name__ == '__main__':\n",
    "    s = input()\n",
    "    minion_game(s)"
   ]
  },
  {
   "cell_type": "code",
   "execution_count": 1,
   "metadata": {},
   "outputs": [
    {
     "name": "stdout",
     "output_type": "stream",
     "text": [
      "AABCAAADA\n",
      "3\n",
      "AB\n",
      "CA\n",
      "AD\n"
     ]
    }
   ],
   "source": [
    "#Question 14 Merge the Tools!\n",
    "def merge_the_tools(string, k):\n",
    "    # your code goes here\n",
    "    ind=0\n",
    "    list1=[]\n",
    "    for i in range(0,len(string),k):\n",
    "        list1.append(string[i:i+k])\n",
    "    list2=[]\n",
    "    for val in list1:\n",
    "        val2=''\n",
    "        for i in range(len(val)):\n",
    "            if (val[i] not in val2):\n",
    "                val2 +=(val[i])\n",
    "        list2.append(val2)\n",
    "        \n",
    "    for val in list2:\n",
    "        print(val)        \n",
    "\n",
    "if __name__ == '__main__':\n",
    "    string, k = input(), int(input())\n",
    "    merge_the_tools(string, k)"
   ]
  },
  {
   "cell_type": "code",
   "execution_count": null,
   "metadata": {},
   "outputs": [],
   "source": []
  }
 ],
 "metadata": {
  "kernelspec": {
   "display_name": "Python 3",
   "language": "python",
   "name": "python3"
  },
  "language_info": {
   "codemirror_mode": {
    "name": "ipython",
    "version": 3
   },
   "file_extension": ".py",
   "mimetype": "text/x-python",
   "name": "python",
   "nbconvert_exporter": "python",
   "pygments_lexer": "ipython3",
   "version": "3.8.5"
  }
 },
 "nbformat": 4,
 "nbformat_minor": 4
}
