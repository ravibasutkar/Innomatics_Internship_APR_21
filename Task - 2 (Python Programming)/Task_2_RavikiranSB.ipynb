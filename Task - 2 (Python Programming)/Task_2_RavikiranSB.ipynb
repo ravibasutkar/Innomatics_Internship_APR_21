{
 "cells": [
  {
   "cell_type": "code",
   "execution_count": 1,
   "metadata": {},
   "outputs": [],
   "source": [
    "#Submitted by Ravikiran S Basutkar "
   ]
  },
  {
   "cell_type": "code",
   "execution_count": 6,
   "metadata": {},
   "outputs": [
    {
     "name": "stdout",
     "output_type": "stream",
     "text": [
      "2\n",
      "2\n",
      "2\n",
      "2\n",
      "[[0, 0, 0], [0, 0, 1], [0, 1, 0], [0, 1, 2], [0, 2, 1], [0, 2, 2], [1, 0, 0], [1, 0, 2], [1, 1, 1], [1, 1, 2], [1, 2, 0], [1, 2, 1], [1, 2, 2], [2, 0, 1], [2, 0, 2], [2, 1, 0], [2, 1, 1], [2, 1, 2], [2, 2, 0], [2, 2, 1], [2, 2, 2]]\n"
     ]
    }
   ],
   "source": [
    "#Question 1 List Comprehensions\n",
    "if __name__ == '__main__':\n",
    "    x = int(input())\n",
    "    y = int(input())\n",
    "    z = int(input())\n",
    "    n = int(input())\n",
    "\n",
    "    print([[i,j,k]for i in range(x+1)for j in range(y+1)for k in range(z+1) \\\n",
    "    if (i+j+k) !=n])\n",
    "\n",
    "    \n",
    "    #solu_arr=[]   \n",
    "    #for i in range(x+1):\n",
    "    #    for j in range(y+1):\n",
    "    #        for k in range(z+1):\n",
    "    #            if (i+j+k) !=n:\n",
    "    #                solu_arr.append([i,j,k])\n",
    "    \n",
    "    #print (solu_arr)"
   ]
  },
  {
   "cell_type": "code",
   "execution_count": 7,
   "metadata": {},
   "outputs": [
    {
     "name": "stdout",
     "output_type": "stream",
     "text": [
      "5\n",
      "Harry\n",
      "37.21\n",
      "Berry\n",
      "37.21\n",
      "Tina\n",
      "37.2\n",
      "Akriti\n",
      "41\n",
      "Harsh\n",
      "39\n",
      "Berry\n",
      "Harry\n"
     ]
    }
   ],
   "source": [
    "#Question 2 Nested Lists\n",
    "if __name__ == '__main__':\n",
    "    records=[]\n",
    "\n",
    "    for _ in range(int(input())):\n",
    "        name = input()\n",
    "        score = float(input())\n",
    "        records.append([name,score])\n",
    "       \n",
    "        \n",
    "    '''  minimum_first=records[0][1]\n",
    "    minimum_second=records[1][1]\n",
    "    for i in range(len(records)):\n",
    "        if (records[i][1]< minimum_first):\n",
    "            minimum_second=minimum_first\n",
    "            minimum_first=records[i][1]\n",
    "            \n",
    "        elif ((records[i][1]>minimum_first) and (records[i][1]<minimum_second)):\n",
    "            minimum_second=records[i][1]\n",
    "            \n",
    "    solu_ans=[]    \n",
    "    for i in range(len(records)):\n",
    "        if (records[i][1]==minimum_second):\n",
    "            solu_ans.append(records[i][0])\n",
    "    \n",
    "    solu_ans.sort()\n",
    "\n",
    "    \n",
    "    for val in solu_ans:\n",
    "        print(val)'''\n",
    "    second_minimum = sorted(list(set([marks for name, marks in records])))[1]\n",
    "    print('\\n'.join([a for a,b in sorted(records) if b == second_minimum]))"
   ]
  },
  {
   "cell_type": "code",
   "execution_count": 1,
   "metadata": {},
   "outputs": [
    {
     "name": "stdout",
     "output_type": "stream",
     "text": [
      "3\n",
      "Krishna 67 68 69\n",
      "Arjun 70 98 63\n",
      "Malika 52 56 60\n",
      "Malika\n",
      "56.00\n"
     ]
    }
   ],
   "source": [
    "#Question 3 Finding the percentage\n",
    "if __name__ == '__main__':\n",
    "    n = int(input())\n",
    "    student_marks = {}\n",
    "    for _ in range(n):\n",
    "        name, *line = input().split()\n",
    "        scores = list(map(float, line))\n",
    "        student_marks[name] = scores\n",
    "    query_name = input()\n",
    "    average=0\n",
    "    for val in  (student_marks[query_name]):\n",
    "        average +=val\n",
    "    \n",
    "    formatted_avg = \"{:.2f}\".format(average/3)\n",
    "    print(formatted_avg)\n",
    "        "
   ]
  },
  {
   "cell_type": "code",
   "execution_count": 13,
   "metadata": {},
   "outputs": [
    {
     "name": "stdout",
     "output_type": "stream",
     "text": [
      "12\n",
      "insert 0 5\n",
      "insert 1 10\n",
      "insert 0 6\n",
      "print\n",
      "[6, 5, 10]\n",
      "remove 6 \n",
      "append 9 append 1 sort print pop reverse print\n",
      "append 1\n",
      "sort\n",
      "print\n",
      "[1, 5, 9, 10]\n",
      "pop\n",
      "reverse\n",
      "print\n",
      "[9, 5, 1]\n"
     ]
    }
   ],
   "source": [
    "#Question 4 Lists\n",
    "if __name__ == '__main__':\n",
    "    N = int(input())\n",
    "    list1=[]\n",
    "    for i in range(N):\n",
    "        input_task=input()\n",
    "        task=input_task.split(\" \")[0]\n",
    "        if (task=='insert'):\n",
    "            i=int(input_task.split(\" \")[1])\n",
    "            e=int(input_task.split(\" \")[2])\n",
    "            list1.insert(i, e)\n",
    "        elif (task=='remove'):\n",
    "            e=int(input_task.split(\" \")[1])\n",
    "            list1.remove(e)\n",
    "        elif (task=='append'):\n",
    "            e=int(input_task.split(\" \")[1])\n",
    "            list1.append(e)\n",
    "        elif (task=='sort'):\n",
    "            list1.sort()\n",
    "        elif (task=='pop'):\n",
    "            list1.pop()\n",
    "        elif (task=='reverse'):\n",
    "            list1.reverse()\n",
    "        elif (task=='print'):\n",
    "            print(list1)\n",
    "        \n",
    "    "
   ]
  },
  {
   "cell_type": "code",
   "execution_count": 4,
   "metadata": {},
   "outputs": [
    {
     "name": "stdout",
     "output_type": "stream",
     "text": [
      "2 \n",
      "1 2 \n",
      "-3550055125485641917\n"
     ]
    }
   ],
   "source": [
    "#Question 5 Tuples hash()\n",
    "if __name__ == '__main__':\n",
    "    n = int(input())\n",
    "    integer_list = map(int, input().split())\n",
    "    tupl1=tuple(integer_list)\n",
    "    print(hash(tupl1))"
   ]
  },
  {
   "cell_type": "code",
   "execution_count": 15,
   "metadata": {},
   "outputs": [
    {
     "name": "stdout",
     "output_type": "stream",
     "text": [
      "10\n",
      "161 182 161 154 176 170 167 171 170 174 \n",
      "169.375\n"
     ]
    }
   ],
   "source": [
    "#Question 6 Introduction to Sets\n",
    "#print(set(enumerate(['H','a','c','k','e','r','r','a','n','k'])))\n",
    "#print (set({'Hacker' : 'DOSHI', 'Rank' : 616 }))\n",
    "def average(array):\n",
    "    # your code goes here\n",
    "    setarr=set(array)\n",
    "    ans_avg=0\n",
    "    for val in setarr:\n",
    "        ans_avg +=val\n",
    "    return ans_avg/len(setarr)\n",
    "        \n",
    "\n",
    "if __name__ == '__main__':\n",
    "    n = int(input())\n",
    "    arr = list(map(int, input().split()))\n",
    "    result = average(arr)\n",
    "    print(result)"
   ]
  },
  {
   "cell_type": "code",
   "execution_count": 4,
   "metadata": {},
   "outputs": [
    {
     "name": "stdout",
     "output_type": "stream",
     "text": [
      "3 2 \n",
      "1 5 3 \n",
      " 3 1\n",
      "5 7\n",
      "1\n"
     ]
    }
   ],
   "source": [
    "#Question 7 No Idea!\n",
    "n, m = input().split()\n",
    "\n",
    "array = input().split()\n",
    "\n",
    "A = set(input().split())\n",
    "B = set(input().split())\n",
    "print(sum([(i in A) - (i in B) for i in array]))"
   ]
  },
  {
   "cell_type": "code",
   "execution_count": 18,
   "metadata": {},
   "outputs": [
    {
     "name": "stdout",
     "output_type": "stream",
     "text": [
      "4\n",
      "2 4 5 9\n",
      "4\n",
      "2 4 11 12\n",
      "5\n",
      "9\n",
      "11\n",
      "12\n"
     ]
    }
   ],
   "source": [
    "#Question 8 Symmetric Difference\n",
    "# Enter your code here. Read input from STDIN. Print output to STDOUT\n",
    "M=input()\n",
    "a=list(map(int,input().split()))\n",
    "N=input()\n",
    "b=list(map(int,input().split()))\n",
    "aa=set(a)\n",
    "bb=set(b)\n",
    "interse=(aa.intersection(bb))\n",
    "a1=aa.difference(interse)\n",
    "b1=bb.difference(interse)\n",
    "ans=a1.union(b1)\n",
    "ans=list(ans)\n",
    "ans.sort()\n",
    "for val in ans:\n",
    "    print(val)"
   ]
  },
  {
   "cell_type": "code",
   "execution_count": 22,
   "metadata": {},
   "outputs": [
    {
     "name": "stdout",
     "output_type": "stream",
     "text": [
      "7\n",
      "UK\n",
      "China\n",
      "USA\n",
      "France\n",
      "New Zealand\n",
      "UK\n",
      "France\n",
      "5\n"
     ]
    }
   ],
   "source": [
    "#Question 9 Set .add()\n",
    "# Enter your code here. Read input from STDIN. Print output to STDOUT\n",
    "N=int(input())\n",
    "arr=[]\n",
    "for i in range(N):\n",
    "    arr.append(input())\n",
    "\n",
    "dist_coun=list(set(arr))\n",
    "print(len(dist_coun))\n",
    "    "
   ]
  },
  {
   "cell_type": "code",
   "execution_count": 23,
   "metadata": {},
   "outputs": [
    {
     "name": "stdout",
     "output_type": "stream",
     "text": [
      "9\n",
      "1 2 3 4 5 6 7 8 9\n",
      "10\n",
      "pop\n",
      "remove 9\n",
      "discard 9\n",
      "discard 8\n",
      "remove 7\n",
      "pop \n",
      "discard 6\n",
      "remove 5\n",
      "pop \n",
      "discard 5\n",
      "4\n"
     ]
    }
   ],
   "source": [
    "#Question 10 Set .discard(), .remove() & .pop()\n",
    "n = int(input())\n",
    "s = set(map(int, input().split()))\n",
    "N=int(input())\n",
    "for i in range(N):\n",
    "    oper1=input().split()\n",
    "    oper=oper1[0]\n",
    "    if(oper=='remove'):\n",
    "        elem=int(oper1[1])\n",
    "        s.remove(elem)\n",
    "    elif(oper=='discard'):\n",
    "        elem=int(oper1[1])\n",
    "        s.discard(elem)\n",
    "    else:\n",
    "        s.pop()\n",
    " \n",
    "ans=0       \n",
    "for val in s:\n",
    "    ans +=val\n",
    "print(ans)"
   ]
  },
  {
   "cell_type": "code",
   "execution_count": 38,
   "metadata": {},
   "outputs": [
    {
     "name": "stdout",
     "output_type": "stream",
     "text": [
      "9\n",
      "1 2 3 4 5 6 7 8 9\n",
      "9\n",
      "10 1 2 3 11 21 55 6 8\n",
      "13\n"
     ]
    }
   ],
   "source": [
    "#Question 11 Set .union() Operation\n",
    "# Enter your code here. Read input from STDIN. Print output to STDOUT\n",
    "e=int(input())\n",
    "re=set(map(int,input().split()))\n",
    "f=int(input())\n",
    "rf=set(map(int,input().split()))\n",
    "print(len(re.union(rf)))"
   ]
  },
  {
   "cell_type": "code",
   "execution_count": 39,
   "metadata": {},
   "outputs": [
    {
     "name": "stdout",
     "output_type": "stream",
     "text": [
      "9\n",
      "1 2 3 4 5 6 7 8 9\n",
      "9\n",
      "10 1 2 3 11 21 55 6 8\n",
      "5\n"
     ]
    }
   ],
   "source": [
    "#Question 12 Set .intersection() Operation\n",
    "# Enter your code here. Read input from STDIN. Print output to STDOUT\n",
    "e=int(input())\n",
    "re=set(map(int,input().split()))\n",
    "f=int(input())\n",
    "rf=set(map(int,input().split()))\n",
    "print(len(re.intersection(rf)))"
   ]
  },
  {
   "cell_type": "code",
   "execution_count": 41,
   "metadata": {},
   "outputs": [
    {
     "name": "stdout",
     "output_type": "stream",
     "text": [
      "9\n",
      "1 2 3 4 5 6 7 8 9\n",
      "9\n",
      "10 1 2 3 11 21 55 6 8\n",
      "4\n"
     ]
    }
   ],
   "source": [
    "#Question 13 Set .difference() Operation\n",
    "# Enter your code here. Read input from STDIN. Print output to STDOUT\n",
    "e=int(input())\n",
    "re=set(map(int,input().split()))\n",
    "f=int(input())\n",
    "rf=set(map(int,input().split()))\n",
    "print(len(re.difference(rf)))"
   ]
  },
  {
   "cell_type": "code",
   "execution_count": 45,
   "metadata": {},
   "outputs": [
    {
     "name": "stdout",
     "output_type": "stream",
     "text": [
      "9\n",
      "1 2 3 4 5 6 7 8 9\n",
      "9\n",
      "10 1 2 3 11 21 55 6 8\n",
      "8\n"
     ]
    }
   ],
   "source": [
    "#Question 14 Set .symmetric_difference() Operation\n",
    "# Enter your code here. Read input from STDIN. Print output to STDOUT\n",
    "e=int(input())\n",
    "re=set(map(int,input().split()))\n",
    "f=int(input())\n",
    "rf=set(map(int,input().split()))\n",
    "#interse=(re.intersection(rf))\n",
    "#re1=re.difference(interse)\n",
    "#rf1=rf.difference(interse)\n",
    "#ans=re1.union(rf1)\n",
    "#OR\n",
    "ans=re.symmetric_difference(rf)\n",
    "print(len(ans))"
   ]
  },
  {
   "cell_type": "code",
   "execution_count": 44,
   "metadata": {},
   "outputs": [
    {
     "name": "stdout",
     "output_type": "stream",
     "text": [
      "16\n",
      "1 2 3 4 5 6 7 8 9 10 11 12 13 14 24 52\n",
      "4\n",
      "intersection_update 10\n",
      "2 3 5 6 8 9 1 4 7 11\n",
      "update 2\n",
      "55 66\n",
      "symmetric_difference_update 5\n",
      "22 7 35 62 58\n",
      "difference_update 7\n",
      "11 22 35 55 58 62 66\n",
      "38\n"
     ]
    }
   ],
   "source": [
    "#Question 15 Set Mutations\n",
    "# Enter your code here. Read input from STDIN. Print output to STDOUT\n",
    "lenA=int(input())\n",
    "A=set(map(int,input().split()))\n",
    "n_othersets=int(input())\n",
    "for i in range(n_othersets):\n",
    "    oper1=input().split()\n",
    "    oper=oper1[0]\n",
    "    if(oper=='intersection_update'):\n",
    "        set_arr=set(map(int,input().split()))\n",
    "        A.intersection_update(set_arr)\n",
    "    elif(oper=='symmetric_difference_update'):\n",
    "        set_arr=set(map(int,input().split()))\n",
    "        A.symmetric_difference_update(set_arr)\n",
    "    elif(oper=='update'):\n",
    "        set_arr=set(map(int,input().split()))\n",
    "        A.update(set_arr)\n",
    "    elif(oper=='difference_update'):\n",
    "        set_arr=set(map(int,input().split()))\n",
    "        A.difference_update(set_arr)\n",
    "         \n",
    "sumA=0         \n",
    "for val in A:\n",
    "    sumA +=val\n",
    "print(sumA)"
   ]
  },
  {
   "cell_type": "code",
   "execution_count": 46,
   "metadata": {},
   "outputs": [
    {
     "name": "stdout",
     "output_type": "stream",
     "text": [
      "5\n",
      "1 2 3 6 5 4 4 2 5 3 6 1 6 5 3 2 4 1 2 5 1 4 3 6 8 4 3 1 5 6 2 \n",
      "8\n"
     ]
    }
   ],
   "source": [
    "#Question 16 The Captain's Room\n",
    "# Enter your code here. Read input from STDIN. Print output to STDOUT\n",
    "K=int(input())\n",
    "roomno_list=list(map(int,input().split()))\n",
    "no_fam=(len(roomno_list)-1)/K\n",
    "#set_roomno=set(roomno_list)\n",
    "cap_no=0\n",
    "'''for i in range(len(roomno_list)):\n",
    "    if roomno_list.count(i)==1:\n",
    "        cap_no=i\n",
    "        break\n",
    "'''\n",
    "roomno_set=set(roomno_list)    \n",
    "cap_no=int((K*sum(roomno_set)-sum(roomno_list))/(K-1))\n",
    "print(cap_no)"
   ]
  },
  {
   "cell_type": "code",
   "execution_count": 48,
   "metadata": {},
   "outputs": [
    {
     "name": "stdout",
     "output_type": "stream",
     "text": [
      "3\n",
      "5\n",
      "1 2 3 5 6\n",
      "9\n",
      "9 8 5 6 3 2 1 4 7\n",
      "True\n",
      "1\n",
      "2\n",
      "5\n",
      "3 6 5 4 1\n",
      "False\n",
      "7\n",
      "1 2 3 5 6 8 9\n",
      "3\n",
      "9 8 2\n",
      "False\n"
     ]
    }
   ],
   "source": [
    "#Question 17 Check Subset\n",
    "# Enter your code here. Read input from STDIN. Print output to STDOUT\n",
    "T=int(input())\n",
    "for i in range(T):\n",
    "    lenA=int(input())\n",
    "    A=set(map(int,input().split()))\n",
    "    lenB=int(input())\n",
    "    B=set(map(int,input().split()))\n",
    "    print(A.issubset(B))"
   ]
  },
  {
   "cell_type": "code",
   "execution_count": 1,
   "metadata": {},
   "outputs": [
    {
     "name": "stdout",
     "output_type": "stream",
     "text": [
      "1 2 3 4 5 6 7 8 9 10 11 12 23 45 84 78\n",
      "2\n",
      "1 2 3 4 5\n",
      "100 11 12\n",
      "False\n"
     ]
    }
   ],
   "source": [
    "#Question 18 Check Strict Superset\n",
    "# Enter your code here. Read input from STDIN. Print output to STDOUT\n",
    "A=set(map(int,input().split()))\n",
    "N=int(input())\n",
    "result=[]\n",
    "for i in range(N):\n",
    "    otherSet=set(map(int,input().split()))\n",
    "    result.append(A.issuperset(otherSet))\n",
    "\n",
    "print(all(result))  #AND operation on result list  #OR operation ==> any(result)"
   ]
  },
  {
   "cell_type": "code",
   "execution_count": 2,
   "metadata": {},
   "outputs": [
    {
     "name": "stdout",
     "output_type": "stream",
     "text": [
      "5\n",
      "2 3 6 6 5\n",
      "5\n"
     ]
    }
   ],
   "source": [
    "#Question 19 Find the Runner-Up Score!\n",
    "if __name__ == '__main__':\n",
    "    n = int(input())\n",
    "    arr = map(int, input().split())\n",
    "    second_highest=sorted(set(arr),reverse=True)[1]\n",
    "    print(second_highest)\n",
    "    #or other method we can initialize highest and second_highest use one for loop and       update those two values"
   ]
  },
  {
   "cell_type": "code",
   "execution_count": null,
   "metadata": {},
   "outputs": [],
   "source": []
  }
 ],
 "metadata": {
  "kernelspec": {
   "display_name": "Python 3",
   "language": "python",
   "name": "python3"
  },
  "language_info": {
   "codemirror_mode": {
    "name": "ipython",
    "version": 3
   },
   "file_extension": ".py",
   "mimetype": "text/x-python",
   "name": "python",
   "nbconvert_exporter": "python",
   "pygments_lexer": "ipython3",
   "version": "3.8.5"
  }
 },
 "nbformat": 4,
 "nbformat_minor": 4
}
