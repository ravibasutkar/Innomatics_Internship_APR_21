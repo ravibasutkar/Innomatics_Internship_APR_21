{
 "cells": [
  {
   "cell_type": "markdown",
   "metadata": {},
   "source": [
    "### Ravikiran S B\n"
   ]
  },
  {
   "cell_type": "code",
   "execution_count": 1,
   "metadata": {},
   "outputs": [],
   "source": [
    "#https://www.hackerrank.com/domains/python?filters%5Bsubdomains%5D%5B%5D=numpy"
   ]
  },
  {
   "cell_type": "code",
   "execution_count": 2,
   "metadata": {},
   "outputs": [
    {
     "name": "stdout",
     "output_type": "stream",
     "text": [
      "1 2 3 4 -8 -10\n",
      "[-10.  -8.   4.   3.   2.   1.]\n"
     ]
    }
   ],
   "source": [
    "#Question 1 Arrays\n",
    "import numpy\n",
    "\n",
    "def arrays(arr):\n",
    "    # complete this function\n",
    "    # use numpy.array\n",
    "    modi_arr=numpy.array(arr).astype(float)\n",
    "    modi_arr2=modi_arr[::-1]\n",
    "    return modi_arr2\n",
    "\n",
    "\n",
    "arr = input().strip().split(' ')\n",
    "result = arrays(arr)\n",
    "print(result)"
   ]
  },
  {
   "cell_type": "code",
   "execution_count": 3,
   "metadata": {},
   "outputs": [
    {
     "name": "stdout",
     "output_type": "stream",
     "text": [
      "1 2 3 4 5 6 7 8 9\n",
      "[[1 2 3]\n",
      " [4 5 6]\n",
      " [7 8 9]]\n"
     ]
    }
   ],
   "source": [
    "#Question 2 Shape and Reshape\n",
    "import numpy\n",
    "\n",
    "arr=list(map(int,input().split(' ')))\n",
    "modi_arr=numpy.array(arr)\n",
    "#modi_arr.shape(3,3)\n",
    "print(numpy.reshape(modi_arr,(3,3)))"
   ]
  },
  {
   "cell_type": "code",
   "execution_count": 4,
   "metadata": {},
   "outputs": [
    {
     "name": "stdout",
     "output_type": "stream",
     "text": [
      "2 2\n",
      "1 2\n",
      "3 4\n",
      "[[1 3]\n",
      " [2 4]]\n",
      "[1 2 3 4]\n"
     ]
    }
   ],
   "source": [
    "#Question 3 Transpose and Flatten\n",
    "import numpy\n",
    "\n",
    "N,M=map(int,input().split(' '))\n",
    "lis1=[]\n",
    "for i in range(N):\n",
    "    lis=list(map(int,input().split(' ')))\n",
    "    lis1.extend(lis)\n",
    "    #for j in range(N):\n",
    "    #    lis1.append(int(input()))\n",
    "\n",
    "modi_arr=numpy.array(lis1)\n",
    "\n",
    "#numpy.reshape(modi_arr,(N,M))\n",
    "modi_arr2=modi_arr.reshape(N,M)\n",
    "\n",
    "print(numpy.transpose(modi_arr2))\n",
    "print(modi_arr2.flatten())"
   ]
  },
  {
   "cell_type": "code",
   "execution_count": 5,
   "metadata": {},
   "outputs": [
    {
     "name": "stdout",
     "output_type": "stream",
     "text": [
      "4 3 2\n",
      "1 2\n",
      "1 2\n",
      "1 2\n",
      "1 2\n",
      "3 4\n",
      "3 4\n",
      "3 4\n",
      "[[1 2]\n",
      " [1 2]\n",
      " [1 2]\n",
      " [1 2]\n",
      " [3 4]\n",
      " [3 4]\n",
      " [3 4]]\n"
     ]
    }
   ],
   "source": [
    "#Question 4 Concatenate\n",
    "import numpy\n",
    "\n",
    "N,M,P=map(int,input().split(' '))\n",
    "\n",
    "np_arr22=[]\n",
    "np_arr33=[]\n",
    "for i in range(N):\n",
    "    np_arr2=(list(map(int,input().split(' '))))\n",
    "    np_arr22.append(np_arr2)\n",
    "for i in range(M):\n",
    "    np_arr3=(list(map(int,input().split(' '))))\n",
    "    np_arr33.append(np_arr3)  \n",
    "\n",
    "#np_arr22=numpy.array(np_arr22)\n",
    "#np_arr33=numpy.array(np_arr33)\n",
    "\n",
    "#np_arr22 = numpy.array([input().split() for _ in range(N)],int)\n",
    "#np_arr33 = numpy.array([input().split() for _ in range(M)],int)\n",
    "\n",
    "    \n",
    "print(numpy.concatenate((np_arr22,np_arr33),axis=0))"
   ]
  },
  {
   "cell_type": "code",
   "execution_count": 6,
   "metadata": {},
   "outputs": [
    {
     "name": "stdout",
     "output_type": "stream",
     "text": [
      "3 3 3\n",
      "[[[0 0 0]\n",
      "  [0 0 0]\n",
      "  [0 0 0]]\n",
      "\n",
      " [[0 0 0]\n",
      "  [0 0 0]\n",
      "  [0 0 0]]\n",
      "\n",
      " [[0 0 0]\n",
      "  [0 0 0]\n",
      "  [0 0 0]]]\n",
      "[[[1 1 1]\n",
      "  [1 1 1]\n",
      "  [1 1 1]]\n",
      "\n",
      " [[1 1 1]\n",
      "  [1 1 1]\n",
      "  [1 1 1]]\n",
      "\n",
      " [[1 1 1]\n",
      "  [1 1 1]\n",
      "  [1 1 1]]]\n"
     ]
    }
   ],
   "source": [
    "#Question 5 Zeros and Ones\n",
    "import numpy\n",
    "\n",
    "lis=list(map(int,input().split()))\n",
    "\n",
    "print (numpy.zeros((lis), dtype = numpy.int))\n",
    "print (numpy.ones((lis), dtype = numpy.int))"
   ]
  },
  {
   "cell_type": "code",
   "execution_count": 7,
   "metadata": {},
   "outputs": [
    {
     "name": "stdout",
     "output_type": "stream",
     "text": [
      "3 3\n",
      "[[ 1.  0.  0.]\n",
      " [ 0.  1.  0.]\n",
      " [ 0.  0.  1.]]\n"
     ]
    }
   ],
   "source": [
    "#Question 6 Eye and Identity\n",
    "import numpy\n",
    "\n",
    "N,M=map(int,input().split())\n",
    "numpy.set_printoptions(sign=' ')\n",
    "#if(N==M):\n",
    "#    print(str(numpy.identity(N).replace('1',' 1')).replace('0',' 0'))\n",
    "#else:\n",
    "print (numpy.eye(N,M, k = 0))"
   ]
  },
  {
   "cell_type": "code",
   "execution_count": 8,
   "metadata": {},
   "outputs": [
    {
     "name": "stdout",
     "output_type": "stream",
     "text": [
      "1 4\n",
      "1 2 3 4\n",
      "5 6 7 8\n",
      "[[ 6  8 10 12]]\n",
      "[[-4 -4 -4 -4]]\n",
      "[[ 5 12 21 32]]\n",
      "[[0 0 0 0]]\n",
      "[[1 2 3 4]]\n",
      "[[    1    64  2187 65536]]\n"
     ]
    }
   ],
   "source": [
    "#Question 7 Array Mathematics\n",
    "import numpy\n",
    "\n",
    "N,M=map(int,input().split())\n",
    "np_arr22=[]\n",
    "np_arr33=[]\n",
    "for i in range(N):\n",
    "    np_arr2=(list(map(int,input().split(' '))))\n",
    "    np_arr22.append(np_arr2)\n",
    "for i in range(N):\n",
    "    np_arr3=(list(map(int,input().split(' '))))\n",
    "    np_arr33.append(np_arr3) \n",
    "\n",
    "a=numpy.array(np_arr22)\n",
    "b=numpy.array(np_arr33)\n",
    "#print (a + b)\n",
    "print (numpy.add(a, b))        \n",
    "\n",
    "#print (a - b)                    \n",
    "print (numpy.subtract(a, b))     \n",
    "\n",
    "#print a * b                     \n",
    "print ( numpy.multiply(a, b))    \n",
    "\n",
    "print (a // b)                     \n",
    "#print (numpy.divide((a, b),dtype=int))\n",
    "#print (numpy.floor_divide((a, b)))\n",
    "#print a % b                     \n",
    "print (numpy.mod(a, b))         \n",
    "\n",
    "#print a**b                       \n",
    "print (numpy.power(a, b))    "
   ]
  },
  {
   "cell_type": "code",
   "execution_count": 10,
   "metadata": {},
   "outputs": [
    {
     "name": "stdout",
     "output_type": "stream",
     "text": [
      "1.1 2.2 3.3 4.4 5.5 6.6 7.7 8.8 9.9\n",
      "[ 1.  2.  3.  4.  5.  6.  7.  8.  9.]\n",
      "[  2.   3.   4.   5.   6.   7.   8.   9.  10.]\n",
      "[  1.   2.   3.   4.   6.   7.   8.   9.  10.]\n"
     ]
    }
   ],
   "source": [
    "#Question 8 Floor, Ceil and Rint\n",
    "import numpy\n",
    "\n",
    "arr_lis=numpy.array(list(map(float,input().split())))\n",
    "numpy.set_printoptions(sign=' ')\n",
    "print(numpy.floor(arr_lis))\n",
    "print(numpy.ceil(arr_lis))\n",
    "print(numpy.rint(arr_lis))"
   ]
  },
  {
   "cell_type": "code",
   "execution_count": 11,
   "metadata": {},
   "outputs": [
    {
     "name": "stdout",
     "output_type": "stream",
     "text": [
      "2 2\n",
      "1 2\n",
      "3 4\n",
      "24\n"
     ]
    }
   ],
   "source": [
    "#Question 9 Sum and Prod\n",
    "import numpy\n",
    "\n",
    "lis1=[]\n",
    "N,M=map(int,input().split())\n",
    "for i in range(N):\n",
    "    lis=list(map(int,input().split()))\n",
    "    lis1.append(lis)\n",
    "    \n",
    "arr_lis=numpy.array(lis1)\n",
    "\n",
    "ans1=(numpy.sum(arr_lis,axis=0))\n",
    "\n",
    "print(numpy.prod(ans1,axis=None))\n",
    "#print(numpy.prod(ans1))"
   ]
  },
  {
   "cell_type": "code",
   "execution_count": 12,
   "metadata": {},
   "outputs": [
    {
     "name": "stdout",
     "output_type": "stream",
     "text": [
      "4 2\n",
      "2 5\n",
      "3 7\n",
      "1 3\n",
      "4 0\n",
      "3\n"
     ]
    }
   ],
   "source": [
    "#Question 10 Min and Max\n",
    "import numpy\n",
    "\n",
    "N,M=map(int,input().split())\n",
    "lis1=[]\n",
    "for i in range(N):\n",
    "    lis=list(map(int,input().split()))\n",
    "    lis1.append(lis)\n",
    "    \n",
    "arr_lis=numpy.array(lis1)\n",
    "ans1=numpy.min(arr_lis,axis=1)\n",
    "ans=numpy.max(ans1)\n",
    "print(ans)"
   ]
  },
  {
   "cell_type": "code",
   "execution_count": 14,
   "metadata": {},
   "outputs": [
    {
     "name": "stdout",
     "output_type": "stream",
     "text": [
      "2 2\n",
      "1 2\n",
      "3 4\n",
      "[ 1.5  3.5]\n",
      "[ 1.  1.]\n",
      "1.11803398875\n"
     ]
    }
   ],
   "source": [
    "#Question 11 Mean, Var, and Std\n",
    "import numpy\n",
    "\n",
    "N,M=map(int,input().split())\n",
    "lis1=[]\n",
    "'''for i in range(N):\n",
    "    lis=list(map(int,input().split()))\n",
    "    lis1.append(lis)'''\n",
    "    \n",
    "lis1=numpy.array([input().strip().split() for i in range(N)],int)\n",
    "\n",
    "\n",
    "arr_lis=numpy.array(lis1)\n",
    "print(numpy.mean(arr_lis,axis=1))\n",
    "print(numpy.var(arr_lis,axis=0))\n",
    "print (round(numpy.std(arr_lis),11))"
   ]
  },
  {
   "cell_type": "code",
   "execution_count": 15,
   "metadata": {},
   "outputs": [
    {
     "name": "stdout",
     "output_type": "stream",
     "text": [
      "2\n",
      "1 2\n",
      "3 4\n",
      "1 2\n",
      "3 4\n",
      "[[ 7 10]\n",
      " [15 22]]\n"
     ]
    }
   ],
   "source": [
    "#Question 12 Dot and Cross\n",
    "import numpy\n",
    "\n",
    "N=int(input())\n",
    "\n",
    "A=numpy.array([input().split() for i in range(N)],int)    \n",
    "B=numpy.array([input().split() for i in range(N)],int)\n",
    "\n",
    "#print (numpy.dot(A, B))\n",
    "#print (numpy.cross(A, B))\n",
    "print(numpy.matmul(A,B))"
   ]
  },
  {
   "cell_type": "code",
   "execution_count": 16,
   "metadata": {},
   "outputs": [
    {
     "name": "stdout",
     "output_type": "stream",
     "text": [
      "0 1\n",
      "2 3\n",
      "3\n",
      "[[0 0]\n",
      " [2 3]]\n"
     ]
    }
   ],
   "source": [
    "#Question 13 Inner and Outer\n",
    "import numpy\n",
    "\n",
    "A=numpy.array(input().split(),int)\n",
    "B=numpy.array(input().split(),int)\n",
    "\n",
    "print(numpy.inner(A,B))\n",
    "print(numpy.outer(A,B))"
   ]
  },
  {
   "cell_type": "code",
   "execution_count": 18,
   "metadata": {},
   "outputs": [
    {
     "name": "stdout",
     "output_type": "stream",
     "text": [
      "1.1 2 3\n",
      "0\n",
      "3.0\n"
     ]
    }
   ],
   "source": [
    "#Question 14 Polynomials\n",
    "import numpy\n",
    "'''\n",
    "print (numpy.poly([-1, 1, 1, 10]))        #Output : [  1 -11   9  11 -10]\n",
    "print (numpy.roots([1, 0, -1]))           #Output : [-1.  1.]\n",
    "print (numpy.polyint([1, 1, 1])          #Output : [ 0.33333333  0.5         1.          0.        ]\n",
    "print (numpy.polyder([1, 1, 1, 1]))       #Output : [3 2 1]\n",
    "print (numpy.polyval([1, -2, 0, 2], 4))   #Output : 34\n",
    "print (numpy.polyfit([0,1,-1, 2, -2], [0,1,1, 4, 4], 2))\n",
    "  #Output : [  1.00000000e+00   0.00000000e+00  -3.97205465e-16]\n",
    "#The functions polyadd, polysub, polymul, and polydiv also handle proper addition, #subtraction, multiplication, and division of polynomial coefficients, respectively.\n",
    "'''\n",
    "P=numpy.array(input().split(),float)\n",
    "x=int(input())\n",
    "print (numpy.polyval(P, x)  )\n"
   ]
  },
  {
   "cell_type": "code",
   "execution_count": 19,
   "metadata": {},
   "outputs": [
    {
     "name": "stdout",
     "output_type": "stream",
     "text": [
      "2\n",
      "1.1 1.1\n",
      "1.1 1.1\n",
      "0.0\n"
     ]
    }
   ],
   "source": [
    "#Question 15  Linear Algebra\n",
    "#https://numpy.org/doc/stable/reference/routines.linalg.html\n",
    "import numpy\n",
    "\n",
    "N=int(input())\n",
    "A=numpy.array([input().split() for i in range(N)],float)\n",
    "ans=numpy.linalg.det(A)\n",
    "print(round(ans,2))"
   ]
  },
  {
   "cell_type": "code",
   "execution_count": null,
   "metadata": {},
   "outputs": [],
   "source": []
  }
 ],
 "metadata": {
  "kernelspec": {
   "display_name": "Python 3",
   "language": "python",
   "name": "python3"
  },
  "language_info": {
   "codemirror_mode": {
    "name": "ipython",
    "version": 3
   },
   "file_extension": ".py",
   "mimetype": "text/x-python",
   "name": "python",
   "nbconvert_exporter": "python",
   "pygments_lexer": "ipython3",
   "version": "3.8.5"
  }
 },
 "nbformat": 4,
 "nbformat_minor": 4
}
