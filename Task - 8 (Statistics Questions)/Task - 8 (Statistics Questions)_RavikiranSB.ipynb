{
 "cells": [
  {
   "cell_type": "markdown",
   "metadata": {},
   "source": [
    "### RAVIKIRAN S B"
   ]
  },
  {
   "cell_type": "code",
   "execution_count": 1,
   "metadata": {},
   "outputs": [],
   "source": [
    "#Task 8\n",
    "#Hackerrank\n",
    "#Innomatics Internship April21"
   ]
  },
  {
   "cell_type": "code",
   "execution_count": 2,
   "metadata": {},
   "outputs": [
    {
     "name": "stdout",
     "output_type": "stream",
     "text": [
      "1.09 1\n",
      "0.696\n"
     ]
    }
   ],
   "source": [
    "#Problem no 1 -Day 4: Binomial Distribution I\n",
    "# Enter your code here. Read input from STDIN. Print output to STDOUT\n",
    "\n",
    "pb,pg=map(float,input().split(' '))\n",
    "p=pb/(pb+pg)\n",
    "q=1-p\n",
    "import math\n",
    "b=0\n",
    "n=6\n",
    "def bi_dist(x, n, p):\n",
    "    b = (math.factorial(n)/(math.factorial(x)*math.factorial(n-x)))*(p**x)*((1-p)**(n-x))\n",
    "    return(b)\n",
    "\n",
    "for i in range(3,7):\n",
    "    b += bi_dist(i, n, p) \n",
    "    \n",
    "print(\"%.3f\" %b)"
   ]
  },
  {
   "cell_type": "code",
   "execution_count": 3,
   "metadata": {},
   "outputs": [
    {
     "name": "stdout",
     "output_type": "stream",
     "text": [
      "12 10\n",
      "0.891\n",
      "0.342\n"
     ]
    }
   ],
   "source": [
    "#Problem no 2 -Day 4: Binomial Distribution II\n",
    "# Enter your code here. Read input from STDIN. Print output to STDOUT\n",
    "import math\n",
    "#p=0.12 #probability of rejection\n",
    "#q=0.88 #(1-p) probability of accepting\n",
    "#N=10 #size of current batcj of pistons\n",
    "\n",
    "inp=input().split()\n",
    "p=int(inp[0])/100\n",
    "q=1-p\n",
    "N=int(inp[1])\n",
    "\n",
    "#q1 - no more than 2 rejections= (0 rejections) +(1 rejections) + (2 rejections)\n",
    "def bi_dist(x, n, p):\n",
    "    b = (math.factorial(n)/(math.factorial(x)*math.factorial(n-x)))*(p**x)*((1-p)**(n-x))\n",
    "    return(b)\n",
    "\n",
    "\n",
    "q1=bi_dist(0,N,p)+bi_dist(1,N,p)+bi_dist(2,N,p)\n",
    "print(\"%.3f\" %q1)\n",
    "\n",
    "\n",
    "\n",
    "#q2=1-((0 rejection)+(1 rejections))\n",
    "q2=1-(bi_dist(0,N,p)+bi_dist(1,N,p))\n",
    "print(\"%.3f\" %q2)\n"
   ]
  },
  {
   "cell_type": "code",
   "execution_count": 4,
   "metadata": {},
   "outputs": [
    {
     "name": "stdout",
     "output_type": "stream",
     "text": [
      "20 2\n",
      "19.5\n",
      "20 22\n",
      "0.4012936743170763\n",
      "0.3413447460685428\n"
     ]
    }
   ],
   "source": [
    "#Problem no 3 Day 5: Normal Distribution I\n",
    "# Enter your code here. Read input from STDIN. Print output to STDOUT\n",
    "#\"%.3f\" %b\n",
    "mean,std=map(int,input().split(' '))\n",
    "q1=float(input())\n",
    "q21,q22=map(int,input().split(' '))\n",
    "\n",
    "z1=(q1-mean)/std\n",
    "\n",
    "#mean=20 std=2, q1=19.5 q21=20, q22=22\n",
    "\n",
    "#import scipy.stats as stats\n",
    "#ans1=stats.norm.cdf(mean,q1,std)\n",
    "\n",
    "import math\n",
    "def N(mean, std, x):\n",
    "        return 0.5 + 0.5 * math.erf((x-mean)/(std* 2**0.5))\n",
    "\n",
    "\n",
    "ans1=N(mean,std,q1)\n",
    "print(ans1)  #0.4013\n",
    "ans21=N(mean,std,q21)\n",
    "ans22=N(mean,std,q22)\n",
    "print(ans22-ans21) "
   ]
  },
  {
   "cell_type": "code",
   "execution_count": 5,
   "metadata": {},
   "outputs": [
    {
     "name": "stdout",
     "output_type": "stream",
     "text": [
      "15.87\n",
      "84.13\n",
      "15.87\n"
     ]
    }
   ],
   "source": [
    "#Problem no 4 -Day 5: Normal Distribution II\n",
    "# Enter your code here. Read input from STDIN. Print output to STDOUT\n",
    "#mean,std=map(int,input().split(' '))\n",
    "#grade80=int(input())\n",
    "#grade60=int(input())\n",
    "mean,std=70,10\n",
    "grade80=80\n",
    "grade60=60\n",
    "import math\n",
    "def N(mean, std, x):\n",
    "        return 0.5 + 0.5 * math.erf((x-mean)/(std* 2**0.5))\n",
    "\n",
    "\n",
    "ans1=N(mean,std,grade80)\n",
    "ans11=1-ans1\n",
    "ans2=N(mean,std,grade60)\n",
    "ans3=1-ans2\n",
    "ans11 *=100\n",
    "ans2 *=100\n",
    "ans3 *=100\n",
    "print(\"%.2f\" %ans11)\n",
    "print(\"%.2f\" %ans3)\n",
    "print(\"%.2f\" %ans2)"
   ]
  },
  {
   "cell_type": "code",
   "execution_count": 6,
   "metadata": {},
   "outputs": [
    {
     "name": "stdout",
     "output_type": "stream",
     "text": [
      "9800\n",
      "49\n",
      "205\n",
      "15\n",
      "0.0098\n"
     ]
    }
   ],
   "source": [
    "#Problem no 5 - Day 6: The Central Limit Theorem I\n",
    "max_sum=int(input())\n",
    "n=int(input())\n",
    "mean=int(input())\n",
    "std=int(input())\n",
    "\n",
    "import math\n",
    "\n",
    "def cdf( x,mean, std):\n",
    "        return 0.5 + 0.5 * math.erf((x-mean)/(std* 2**0.5))\n",
    "\n",
    "\n",
    "'''\n",
    "sample=max_sum/n\n",
    "\n",
    "ans=cdf(sample,mean,std)\n",
    "print(\"%.4f\" %ans)\n",
    "'''\n",
    "mu_sum = n * mean \n",
    "sigma_sum = math.sqrt(n) * std\n",
    "print(round(cdf(max_sum, mu_sum, sigma_sum), 4))"
   ]
  },
  {
   "cell_type": "code",
   "execution_count": 7,
   "metadata": {},
   "outputs": [
    {
     "name": "stdout",
     "output_type": "stream",
     "text": [
      "250\n",
      "100\n",
      "2.4\n",
      "2.0\n",
      "0.6915\n"
     ]
    }
   ],
   "source": [
    "#Problem no 6 - Day 6: The Central Limit Theorem II\n",
    "# Enter your code here. Read input from STDIN. Print output to STDOUT\n",
    "x=int(input())\n",
    "n=int(input())\n",
    "mean=float(input())\n",
    "std=float(input())\n",
    "\n",
    "import math\n",
    "\n",
    "def cdf( x,mean, std):\n",
    "        return 0.5 + 0.5 * math.erf((x-mean)/(std* 2**0.5))\n",
    "\n",
    "\n",
    "mu_sum = n * mean \n",
    "sigma_sum = math.sqrt(n) * std\n",
    "print(round(cdf(x, mu_sum, sigma_sum), 4))"
   ]
  },
  {
   "cell_type": "code",
   "execution_count": 8,
   "metadata": {},
   "outputs": [
    {
     "name": "stdout",
     "output_type": "stream",
     "text": [
      "100\n",
      "500\n",
      "80\n",
      ".95\n",
      "1.96\n",
      "484.32\n",
      "515.68\n"
     ]
    }
   ],
   "source": [
    "#Problem no 7 - Day 6: The Central Limit Theorem III\n",
    "# Enter your code here. Read input from STDIN. Print output to STDOUT\n",
    "import math\n",
    "n=int(input())\n",
    "mu=int(input())\n",
    "sigma=int(input())\n",
    "conf_int=float(input())\n",
    "z=float(input())\n",
    "\n",
    "mu_sam=mu/n\n",
    "sigma_sam=sigma/math.sqrt(n) \n",
    "\n",
    "A=mu-z*sigma_sam\n",
    "B=mu+z*sigma_sam\n",
    "print(round(A,2))\n",
    "print(round(B,2))"
   ]
  },
  {
   "cell_type": "code",
   "execution_count": 9,
   "metadata": {},
   "outputs": [
    {
     "name": "stdout",
     "output_type": "stream",
     "text": [
      "10\n",
      "10 9.8 8 7.8 7.7 7 6 5 4 2 \n",
      "200 44 32 24 22 17 15 12 8 4\n",
      "0.612\n"
     ]
    }
   ],
   "source": [
    "#Problem no 8 -Day 7: Pearson Correlation Coefficient I\n",
    "# Enter your code here. Read input from STDIN. Print output to STDOUT\n",
    "#import numpy \n",
    "n=int(input())\n",
    "X=list(map(float,input().split() ) )\n",
    "Y=list(map(float,input().split() ) )\n",
    "\n",
    "\n",
    "X_mu=(sum([i for i in X]))/n\n",
    "Y_mu=(sum([i for i in Y]))/n\n",
    "\n",
    "\n",
    "X_sigma=((sum([(i-X_mu)**2 for i in X ]))/n)**0.5\n",
    "Y_sigma=((sum([(i-Y_mu)**2 for i in Y ]))/n)**0.5\n",
    "\n",
    "\n",
    "covar=(sum([(X[i]-X_mu)*(Y[i]-Y_mu) for i in range(n)]))/n\n",
    "\n",
    "pearson_coeff=covar/(X_sigma*Y_sigma)\n",
    "\n",
    "print(round(pearson_coeff,3))"
   ]
  },
  {
   "cell_type": "code",
   "execution_count": 10,
   "metadata": {},
   "outputs": [
    {
     "name": "stdout",
     "output_type": "stream",
     "text": [
      "95 85\n",
      "85 95\n",
      "80 70\n",
      "70 65\n",
      "60 70\n",
      "78.288\n"
     ]
    }
   ],
   "source": [
    "#Problem no 9 - Day 8: Least Square Regression Line\n",
    "# Enter your code here. Read input from STDIN. Print output to STDOUT\n",
    "n=5\n",
    "x=[]\n",
    "y=[]\n",
    "for i in range(n):\n",
    "    inp=input().split()\n",
    "    x.append(int(inp[0]))\n",
    "    y.append(int(inp[1]))\n",
    "    \n",
    "x_mu=sum(x)/n\n",
    "y_mu=sum(y)/n\n",
    "\n",
    "x_std=(sum([(i-x_mu)**2 for i in x])/n)**0.5\n",
    "y_std=(sum([(i-y_mu)**2 for i in y])/n)**0.5\n",
    "\n",
    "covar=sum([(x[i]-x_mu)*(y[i]-y_mu) for i in range(n)])/n\n",
    "rho=covar/(x_std*y_std)   #rho- pearson's coefficient \n",
    "\n",
    "m=rho*y_std/x_std   #slope of y=mx+C\n",
    "C=y_mu-m*x_mu\n",
    "\n",
    "x_val=80\n",
    "y_pred=m*x_val+C\n",
    "#from sklearn import linear_model\n",
    "#lm = linear_model.LinearRegression()\n",
    "#lm.fit(x, y)\n",
    "print(\"%.3f\" %y_pred)"
   ]
  },
  {
   "cell_type": "code",
   "execution_count": 11,
   "metadata": {},
   "outputs": [
    {
     "name": "stdout",
     "output_type": "stream",
     "text": [
      "2 7\n",
      "0.18 0.89 109.85\n",
      "1.0 0.26 155.72\n",
      "0.92 0.11 137.66\n",
      "0.07 0.37 76.17\n",
      "0.85 0.16 139.75\n",
      "0.99 0.41 162.6\n",
      "0.87 0.47 151.77\n",
      "4\n",
      "0.49 0.18\n",
      "105.21\n",
      "0.57 0.83\n",
      "142.67\n",
      "0.56 0.64\n",
      "132.94\n",
      "0.76 0.18\n",
      "129.7\n"
     ]
    }
   ],
   "source": [
    "#Problem no 10 - Day 9: Multiple Linear Regression\n",
    "# Enter your code here. Read input from STDIN. Print output to STDOUT\n",
    "import numpy as np\n",
    "m,n=map(int,input().split())\n",
    "x=[]\n",
    "y=[]\n",
    "for i in range(n):\n",
    "    inp=list(map(float,input().split()))\n",
    "    yi=inp[-1]\n",
    "    y.append(yi)\n",
    "    xi=[1]\n",
    "    xi.extend(inp[:-1])\n",
    "    x.append(xi)\n",
    "\n",
    "x_ar=np.array(x)\n",
    "y_ar=np.array(y)\n",
    "B=np.matmul(np.matmul((np.linalg.inv(np.matmul(np.transpose(x_ar),x_ar))),np.transpose(x_ar)),y_ar)\n",
    "BB=np.transpose(np.asmatrix((B)))\n",
    "\n",
    "q=int(input())\n",
    "#print(BB.shape)\n",
    "for i in range(q):\n",
    "    x_p=[1]\n",
    "    x_p.extend(list(map(float,input().split())))\n",
    "    x_p_ar=(np.asmatrix(np.array(x_p)))\n",
    "    \n",
    "    #print(x_p_ar.shape)\n",
    "    ans=(np.matmul(x_p_ar,BB)).item()\n",
    "    print(round(ans,2))"
   ]
  },
  {
   "cell_type": "code",
   "execution_count": null,
   "metadata": {},
   "outputs": [],
   "source": []
  }
 ],
 "metadata": {
  "kernelspec": {
   "display_name": "Python 3",
   "language": "python",
   "name": "python3"
  },
  "language_info": {
   "codemirror_mode": {
    "name": "ipython",
    "version": 3
   },
   "file_extension": ".py",
   "mimetype": "text/x-python",
   "name": "python",
   "nbconvert_exporter": "python",
   "pygments_lexer": "ipython3",
   "version": "3.8.5"
  }
 },
 "nbformat": 4,
 "nbformat_minor": 4
}
