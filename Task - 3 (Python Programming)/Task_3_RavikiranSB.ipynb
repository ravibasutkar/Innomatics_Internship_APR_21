{
 "cells": [
  {
   "cell_type": "code",
   "execution_count": 1,
   "metadata": {},
   "outputs": [],
   "source": [
    "#Submitted by Ravikiran S Basutkar \n",
    "#Task_3"
   ]
  },
  {
   "cell_type": "code",
   "execution_count": 2,
   "metadata": {},
   "outputs": [
    {
     "name": "stdout",
     "output_type": "stream",
     "text": [
      "1+2j\n",
      "2.23606797749979\n",
      "1.1071487177940904\n"
     ]
    }
   ],
   "source": [
    "#Question 1 Polar Coordinates\n",
    "# Enter your code here. Read input from STDIN. Print output to STDOUT\n",
    "#import math \n",
    "import cmath\n",
    "from cmath import *\n",
    "\n",
    "z=input()\n",
    "if '+' in z:\n",
    "    x_comp=float(z.split('+')[0])\n",
    "    y_comp=float((z.split('+')[1])[:-1])\n",
    "elif '-' in z:\n",
    "    if z[0]=='-':\n",
    "        x_comp=-1*float(z[1:].split('-')[0])\n",
    "        if '-' in z[1:]:\n",
    "           y_comp=-1*float((z[1:].split('-')[1])[:-1])\n",
    "        elif '+' in z[1:]:\n",
    "            y_comp=float((z.split('+')[1])[:-1])\n",
    "    else:\n",
    "        x_comp=float(z.split('-')[0])\n",
    "        y_comp=-1*float((z.split('-')[1])[:-1])\n",
    "#r=(x_comp*x_comp+y_comp*y_comp)**0.5\n",
    "#phi=math.atan(y_comp/x_comp)\n",
    "r=abs(complex(x_comp, y_comp))\n",
    "phi=phase(complex(x_comp, y_comp))\n",
    "\n",
    "'''\n",
    "OR\n",
    "r = complex(input().strip())\n",
    "print(cmath.polar(r)[0])\n",
    "print(cmath.polar(r)[1])'''\n",
    "\n",
    "print(r)\n",
    "print(phi)"
   ]
  },
  {
   "cell_type": "code",
   "execution_count": 3,
   "metadata": {},
   "outputs": [
    {
     "name": "stdout",
     "output_type": "stream",
     "text": [
      "5\n",
      "1\n",
      "121\n",
      "12321\n",
      "1234321\n",
      "123454321\n"
     ]
    }
   ],
   "source": [
    "#Question 2 Triangle Quest 2\n",
    "\n",
    "for i in range(1,int(input())+1): #More than 2 lines will result in 0 score. Do not leave a blank line also\n",
    "    #print (int('1'*i)*int('1'*i))\n",
    "    #print ((sum([10**(ii)for ii in range (i)])**2))\n",
    "    #print (int(((1 * (1-pow(10, i))) / (1-10))**2))\n",
    "    print ((((1 * (1-pow(10, i))) // (1-10))**2))"
   ]
  },
  {
   "cell_type": "code",
   "execution_count": 4,
   "metadata": {},
   "outputs": [
    {
     "name": "stdout",
     "output_type": "stream",
     "text": [
      "177\n",
      "10\n",
      "17\n",
      "7\n",
      "(17, 7)\n"
     ]
    }
   ],
   "source": [
    "#Question 3 Mod Divmod\n",
    "# Enter your code here. Read input from STDIN. Print output to STDOUT\n",
    "a=int(input())\n",
    "b=int(input())\n",
    "int_div=a//b\n",
    "div_mod=a%b\n",
    "tup=(int_div,div_mod)\n",
    "\n",
    "print(int_div)\n",
    "print(div_mod)\n",
    "#print(\"(\",int_div,\",\",div_mod,\")\")\n",
    "print(tup)\n",
    "#print(\"({}, {})\".format(int_div,div_mod)) "
   ]
  },
  {
   "cell_type": "code",
   "execution_count": 5,
   "metadata": {},
   "outputs": [
    {
     "name": "stdout",
     "output_type": "stream",
     "text": [
      "3\n",
      "4\n",
      "5\n",
      "81\n",
      "1\n"
     ]
    }
   ],
   "source": [
    "#Question 4 Power - Mod Power\n",
    "# Enter your code here. Read input from STDIN. Print output to STDOUT\n",
    "a=int(input())\n",
    "b=int(input())\n",
    "m=int(input())\n",
    "#print(pow(a,b))\n",
    "print(a**b)  \n",
    "#print(pow(a,b,m))\n",
    "print((a**b)%m) "
   ]
  },
  {
   "cell_type": "code",
   "execution_count": 6,
   "metadata": {},
   "outputs": [
    {
     "name": "stdout",
     "output_type": "stream",
     "text": [
      "9\n",
      "29\n",
      "7\n",
      "27\n",
      "4710194409608608369201743232\n"
     ]
    }
   ],
   "source": [
    "#Question 5 Integers Come In All Sizes\n",
    "# Enter your code here. Read input from STDIN. Print output to STDOUT\n",
    "a=int(input())\n",
    "b=int(input())\n",
    "c=int(input())\n",
    "d=int(input())\n",
    "print(a**b+c**d)"
   ]
  },
  {
   "cell_type": "code",
   "execution_count": 7,
   "metadata": {},
   "outputs": [
    {
     "name": "stdout",
     "output_type": "stream",
     "text": [
      "5\n",
      "1\n",
      "22\n",
      "333\n",
      "4444\n"
     ]
    }
   ],
   "source": [
    "#Question 6 Triangle Quest\n",
    "for i in range(1,int(input())): #More than 2 lines will result in 0 score. Do not leave a blank line also\n",
    "    print (1*(1-10**i)//(1-10)*i)"
   ]
  },
  {
   "cell_type": "code",
   "execution_count": 8,
   "metadata": {},
   "outputs": [
    {
     "name": "stdout",
     "output_type": "stream",
     "text": [
      "1\n",
      "1\n",
      "45°\n"
     ]
    }
   ],
   "source": [
    "#Question 7 Find Angle MBC\n",
    "# Enter your code here. Read input from STDIN. Print output to STDOUT\n",
    "# -*- coding: utf-8 -*-\n",
    "import math\n",
    "from math import *\n",
    "a=int(input())\n",
    "b=int(input())\n",
    "#angle1=round(90-180/pi*atan(a/b))\n",
    "angle1=round(degrees(atan2(a,b)))\n",
    "degree_sign= u'\\N{DEGREE SIGN}'\n",
    "print(\"{}{}\".format(angle1,degree_sign))"
   ]
  },
  {
   "cell_type": "code",
   "execution_count": null,
   "metadata": {},
   "outputs": [],
   "source": []
  }
 ],
 "metadata": {
  "kernelspec": {
   "display_name": "Python 3",
   "language": "python",
   "name": "python3"
  },
  "language_info": {
   "codemirror_mode": {
    "name": "ipython",
    "version": 3
   },
   "file_extension": ".py",
   "mimetype": "text/x-python",
   "name": "python",
   "nbconvert_exporter": "python",
   "pygments_lexer": "ipython3",
   "version": "3.8.5"
  }
 },
 "nbformat": 4,
 "nbformat_minor": 4
}
